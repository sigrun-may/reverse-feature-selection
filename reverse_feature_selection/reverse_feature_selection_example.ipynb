{
 "cells": [
  {
   "cell_type": "markdown",
   "id": "a59a2e3e",
   "metadata": {},
   "source": [
    "# Basic example for the usage of reverse feature selection\n",
    "\n",
    "This is a basic example of how to use the reverse feature selection algorithm. The example generates a synthetic dataset\n",
    "with 100 irrelevant features and two relevant features. The relevant features have an increased effect size. The\n",
    "algorithm selects the relevant features and prints the names of the selected features."
   ]
  },
  {
   "cell_type": "markdown",
   "id": "9cff7ab0",
   "metadata": {},
   "source": "### Generate synthetic dataset"
  },
  {
   "cell_type": "code",
   "id": "713250e7",
   "metadata": {
    "ExecuteTime": {
     "end_time": "2025-05-02T12:31:02.352780Z",
     "start_time": "2025-05-02T12:31:02.058968Z"
    }
   },
   "source": [
    "# Import required libraries to generate an example dataset\n",
    "import numpy as np\n",
    "import pandas as pd\n",
    "\n",
    "# Number of relevant features to insert\n",
    "n_relevant_features = 2\n",
    "\n",
    "# Number of irrelevant features\n",
    "n_irrelevant_features = 200\n",
    "\n",
    "# Number of total samples (must be an even number for binary classification)\n",
    "n_samples = 30\n",
    "\n",
    "# Set up a random number generator\n",
    "rng = np.random.default_rng()\n",
    "\n",
    "# Create DataFrame with irrelevant features\n",
    "data_df = pd.DataFrame({f\"random_feature{i+1}\": rng.random(n_samples) for i in range(n_irrelevant_features)})\n",
    "\n",
    "# Insert relevant features with increased effect size\n",
    "for i in range(n_relevant_features):\n",
    "    regulated_class = rng.random(n_samples // 2) + (i + 1) * 2\n",
    "    unregulated_class = rng.random(n_samples // 2) + (i + 1)\n",
    "    # Concatenate the two classes to form a single relevant feature\n",
    "    data_df.insert(i, f\"relevant_feature{i+1}\", np.concatenate((regulated_class, unregulated_class)))"
   ],
   "outputs": [],
   "execution_count": 1
  },
  {
   "metadata": {},
   "cell_type": "markdown",
   "source": "### Insert labels",
   "id": "d94c8c72"
  },
  {
   "cell_type": "code",
   "id": "d7837793",
   "metadata": {
    "ExecuteTime": {
     "end_time": "2025-05-02T12:31:02.474025Z",
     "start_time": "2025-05-02T12:31:02.440519Z"
    }
   },
   "source": [
    "# Construct binary class labels (15 samples of class 0 and 15 of class 1)\n",
    "label = np.concatenate((np.zeros(n_samples // 2), np.ones(n_samples // 2)))\n",
    "\n",
    "# Insert label column at the beginning of the DataFrame\n",
    "data_df.insert(0, \"label\", label)\n",
    "\n",
    "data_df.head()"
   ],
   "outputs": [
    {
     "data": {
      "text/plain": [
       "   label  relevant_feature1  relevant_feature2  random_feature1  \\\n",
       "0    0.0           2.707493           4.545599         0.587659   \n",
       "1    0.0           2.799007           4.884355         0.782353   \n",
       "2    0.0           2.413544           4.768177         0.163102   \n",
       "3    0.0           2.389899           4.368770         0.466263   \n",
       "4    0.0           2.668488           4.018868         0.553765   \n",
       "\n",
       "   random_feature2  random_feature3  random_feature4  random_feature5  \\\n",
       "0         0.712210         0.122933         0.424262         0.076522   \n",
       "1         0.971619         0.299618         0.678410         0.477520   \n",
       "2         0.712957         0.573272         0.733440         0.687636   \n",
       "3         0.959561         0.434126         0.282996         0.861042   \n",
       "4         0.207994         0.779720         0.588837         0.374214   \n",
       "\n",
       "   random_feature6  random_feature7  ...  random_feature191  \\\n",
       "0         0.504659         0.484304  ...           0.340841   \n",
       "1         0.035606         0.272679  ...           0.788341   \n",
       "2         0.630334         0.994705  ...           0.956702   \n",
       "3         0.208301         0.854664  ...           0.350258   \n",
       "4         0.093316         0.517818  ...           0.875388   \n",
       "\n",
       "   random_feature192  random_feature193  random_feature194  random_feature195  \\\n",
       "0           0.723240           0.996600           0.660321           0.105860   \n",
       "1           0.043351           0.618925           0.064209           0.425322   \n",
       "2           0.061218           0.891728           0.265086           0.010259   \n",
       "3           0.275920           0.230971           0.499132           0.861143   \n",
       "4           0.005005           0.015254           0.331810           0.757989   \n",
       "\n",
       "   random_feature196  random_feature197  random_feature198  random_feature199  \\\n",
       "0           0.979735           0.148285           0.607985           0.823630   \n",
       "1           0.235610           0.431035           0.425155           0.783302   \n",
       "2           0.080210           0.800340           0.695813           0.300579   \n",
       "3           0.392174           0.203347           0.199382           0.294618   \n",
       "4           0.080160           0.712073           0.317964           0.356069   \n",
       "\n",
       "   random_feature200  \n",
       "0           0.733797  \n",
       "1           0.390538  \n",
       "2           0.119317  \n",
       "3           0.220623  \n",
       "4           0.082959  \n",
       "\n",
       "[5 rows x 203 columns]"
      ],
      "text/html": [
       "<div>\n",
       "<style scoped>\n",
       "    .dataframe tbody tr th:only-of-type {\n",
       "        vertical-align: middle;\n",
       "    }\n",
       "\n",
       "    .dataframe tbody tr th {\n",
       "        vertical-align: top;\n",
       "    }\n",
       "\n",
       "    .dataframe thead th {\n",
       "        text-align: right;\n",
       "    }\n",
       "</style>\n",
       "<table border=\"1\" class=\"dataframe\">\n",
       "  <thead>\n",
       "    <tr style=\"text-align: right;\">\n",
       "      <th></th>\n",
       "      <th>label</th>\n",
       "      <th>relevant_feature1</th>\n",
       "      <th>relevant_feature2</th>\n",
       "      <th>random_feature1</th>\n",
       "      <th>random_feature2</th>\n",
       "      <th>random_feature3</th>\n",
       "      <th>random_feature4</th>\n",
       "      <th>random_feature5</th>\n",
       "      <th>random_feature6</th>\n",
       "      <th>random_feature7</th>\n",
       "      <th>...</th>\n",
       "      <th>random_feature191</th>\n",
       "      <th>random_feature192</th>\n",
       "      <th>random_feature193</th>\n",
       "      <th>random_feature194</th>\n",
       "      <th>random_feature195</th>\n",
       "      <th>random_feature196</th>\n",
       "      <th>random_feature197</th>\n",
       "      <th>random_feature198</th>\n",
       "      <th>random_feature199</th>\n",
       "      <th>random_feature200</th>\n",
       "    </tr>\n",
       "  </thead>\n",
       "  <tbody>\n",
       "    <tr>\n",
       "      <th>0</th>\n",
       "      <td>0.0</td>\n",
       "      <td>2.707493</td>\n",
       "      <td>4.545599</td>\n",
       "      <td>0.587659</td>\n",
       "      <td>0.712210</td>\n",
       "      <td>0.122933</td>\n",
       "      <td>0.424262</td>\n",
       "      <td>0.076522</td>\n",
       "      <td>0.504659</td>\n",
       "      <td>0.484304</td>\n",
       "      <td>...</td>\n",
       "      <td>0.340841</td>\n",
       "      <td>0.723240</td>\n",
       "      <td>0.996600</td>\n",
       "      <td>0.660321</td>\n",
       "      <td>0.105860</td>\n",
       "      <td>0.979735</td>\n",
       "      <td>0.148285</td>\n",
       "      <td>0.607985</td>\n",
       "      <td>0.823630</td>\n",
       "      <td>0.733797</td>\n",
       "    </tr>\n",
       "    <tr>\n",
       "      <th>1</th>\n",
       "      <td>0.0</td>\n",
       "      <td>2.799007</td>\n",
       "      <td>4.884355</td>\n",
       "      <td>0.782353</td>\n",
       "      <td>0.971619</td>\n",
       "      <td>0.299618</td>\n",
       "      <td>0.678410</td>\n",
       "      <td>0.477520</td>\n",
       "      <td>0.035606</td>\n",
       "      <td>0.272679</td>\n",
       "      <td>...</td>\n",
       "      <td>0.788341</td>\n",
       "      <td>0.043351</td>\n",
       "      <td>0.618925</td>\n",
       "      <td>0.064209</td>\n",
       "      <td>0.425322</td>\n",
       "      <td>0.235610</td>\n",
       "      <td>0.431035</td>\n",
       "      <td>0.425155</td>\n",
       "      <td>0.783302</td>\n",
       "      <td>0.390538</td>\n",
       "    </tr>\n",
       "    <tr>\n",
       "      <th>2</th>\n",
       "      <td>0.0</td>\n",
       "      <td>2.413544</td>\n",
       "      <td>4.768177</td>\n",
       "      <td>0.163102</td>\n",
       "      <td>0.712957</td>\n",
       "      <td>0.573272</td>\n",
       "      <td>0.733440</td>\n",
       "      <td>0.687636</td>\n",
       "      <td>0.630334</td>\n",
       "      <td>0.994705</td>\n",
       "      <td>...</td>\n",
       "      <td>0.956702</td>\n",
       "      <td>0.061218</td>\n",
       "      <td>0.891728</td>\n",
       "      <td>0.265086</td>\n",
       "      <td>0.010259</td>\n",
       "      <td>0.080210</td>\n",
       "      <td>0.800340</td>\n",
       "      <td>0.695813</td>\n",
       "      <td>0.300579</td>\n",
       "      <td>0.119317</td>\n",
       "    </tr>\n",
       "    <tr>\n",
       "      <th>3</th>\n",
       "      <td>0.0</td>\n",
       "      <td>2.389899</td>\n",
       "      <td>4.368770</td>\n",
       "      <td>0.466263</td>\n",
       "      <td>0.959561</td>\n",
       "      <td>0.434126</td>\n",
       "      <td>0.282996</td>\n",
       "      <td>0.861042</td>\n",
       "      <td>0.208301</td>\n",
       "      <td>0.854664</td>\n",
       "      <td>...</td>\n",
       "      <td>0.350258</td>\n",
       "      <td>0.275920</td>\n",
       "      <td>0.230971</td>\n",
       "      <td>0.499132</td>\n",
       "      <td>0.861143</td>\n",
       "      <td>0.392174</td>\n",
       "      <td>0.203347</td>\n",
       "      <td>0.199382</td>\n",
       "      <td>0.294618</td>\n",
       "      <td>0.220623</td>\n",
       "    </tr>\n",
       "    <tr>\n",
       "      <th>4</th>\n",
       "      <td>0.0</td>\n",
       "      <td>2.668488</td>\n",
       "      <td>4.018868</td>\n",
       "      <td>0.553765</td>\n",
       "      <td>0.207994</td>\n",
       "      <td>0.779720</td>\n",
       "      <td>0.588837</td>\n",
       "      <td>0.374214</td>\n",
       "      <td>0.093316</td>\n",
       "      <td>0.517818</td>\n",
       "      <td>...</td>\n",
       "      <td>0.875388</td>\n",
       "      <td>0.005005</td>\n",
       "      <td>0.015254</td>\n",
       "      <td>0.331810</td>\n",
       "      <td>0.757989</td>\n",
       "      <td>0.080160</td>\n",
       "      <td>0.712073</td>\n",
       "      <td>0.317964</td>\n",
       "      <td>0.356069</td>\n",
       "      <td>0.082959</td>\n",
       "    </tr>\n",
       "  </tbody>\n",
       "</table>\n",
       "<p>5 rows × 203 columns</p>\n",
       "</div>"
      ]
     },
     "execution_count": 2,
     "metadata": {},
     "output_type": "execute_result"
    }
   ],
   "execution_count": 2
  },
  {
   "cell_type": "markdown",
   "id": "9afaf036",
   "metadata": {},
   "source": "### Set training indices (simulate cross-validation)"
  },
  {
   "cell_type": "code",
   "id": "c4f33aee",
   "metadata": {
    "ExecuteTime": {
     "end_time": "2025-05-02T12:31:02.583601Z",
     "start_time": "2025-05-02T12:31:02.579407Z"
    }
   },
   "source": [
    "# Simulate leave-one-out cross-validation by selecting 29 out of 30 samples for training\n",
    "train_indices = rng.choice(data_df.index, size=29, replace=False)"
   ],
   "outputs": [],
   "execution_count": 3
  },
  {
   "cell_type": "markdown",
   "id": "8d472319",
   "metadata": {},
   "source": [
    "### Define meta information\n",
    "\n",
    "Meta data can be left at its default values. But \"random_seeds\" must be defined for reproducibility and “train_correlation_threshold” should be tuned if the results are not satisfactory. With this parameter the size of the feature subset selction can be adjusted."
   ]
  },
  {
   "cell_type": "code",
   "id": "fcebe0fc",
   "metadata": {
    "ExecuteTime": {
     "end_time": "2025-05-02T12:31:02.738621Z",
     "start_time": "2025-05-02T12:31:02.727359Z"
    }
   },
   "source": [
    "# Generate a diverse list of integer random seeds to initialize the random forests for reproducibility\n",
    "seeds = [29, 10, 17, 42, 213, 34, 1, 5, 19, 3, 23, 9, 7, 123, 234, 345, 456, 567, 678, 789, 890, 15, 333, 37, 45, 56]\n",
    "\n",
    "# Meta configuration for the feature selection\n",
    "meta_data = {\n",
    "    \"n_cpus\": 4,\n",
    "    \"random_seeds\": seeds,\n",
    "    # train correlation threshold defines the features correlated to the target to be removed from the training data\n",
    "    \"train_correlation_threshold\": 0.7,\n",
    "}"
   ],
   "outputs": [],
   "execution_count": 4
  },
  {
   "cell_type": "markdown",
   "id": "78e654e4",
   "metadata": {},
   "source": "### Run reverse feature selection"
  },
  {
   "cell_type": "code",
   "id": "972ba62b",
   "metadata": {
    "ExecuteTime": {
     "end_time": "2025-05-02T12:32:10.708542Z",
     "start_time": "2025-05-02T12:31:03.075842Z"
    }
   },
   "source": [
    "# Import the reverse feature selection function\n",
    "from reverse_feature_selection.reverse_random_forests import select_feature_subset\n",
    "\n",
    "# Run the reverse feature selection algorithm (could take a Minute or two)\n",
    "result_df = select_feature_subset(data_df, train_indices, meta_data=meta_data)"
   ],
   "outputs": [
    {
     "name": "stderr",
     "output_type": "stream",
     "text": [
      "[Parallel(n_jobs=4)]: Using backend LokyBackend with 4 concurrent workers.\n",
      "[Parallel(n_jobs=4)]: Done  64 tasks      | elapsed:   24.2s\n",
      "[Parallel(n_jobs=4)]: Done 202 out of 202 | elapsed:  1.1min finished\n"
     ]
    }
   ],
   "execution_count": 5
  },
  {
   "cell_type": "markdown",
   "id": "c1e31774",
   "metadata": {},
   "source": "### Display selected features"
  },
  {
   "cell_type": "code",
   "id": "ed6d2123",
   "metadata": {
    "ExecuteTime": {
     "end_time": "2025-05-02T12:32:10.814685Z",
     "start_time": "2025-05-02T12:32:10.799655Z"
    }
   },
   "source": [
    "# Selected features are those with a score greater than 0, stored in the 'feature_subset_selection' column\n",
    "print(\"Selected features:\")\n",
    "result_df[result_df[\"feature_subset_selection\"] > 0][\"feature_subset_selection\"]"
   ],
   "outputs": [
    {
     "name": "stdout",
     "output_type": "stream",
     "text": [
      "Selected features:\n"
     ]
    },
    {
     "data": {
      "text/plain": [
       "relevant_feature1    0.802864\n",
       "relevant_feature2    0.933373\n",
       "Name: feature_subset_selection, dtype: float64"
      ]
     },
     "execution_count": 6,
     "metadata": {},
     "output_type": "execute_result"
    }
   ],
   "execution_count": 6
  }
 ],
 "metadata": {},
 "nbformat": 4,
 "nbformat_minor": 5
}
