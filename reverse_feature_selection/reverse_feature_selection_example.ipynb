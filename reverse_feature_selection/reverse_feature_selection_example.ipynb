{
 "cells": [
  {
   "cell_type": "markdown",
   "id": "a59a2e3e",
   "metadata": {},
   "source": "### Import necessary libraries"
  },
  {
   "cell_type": "code",
   "id": "e886c508",
   "metadata": {
    "ExecuteTime": {
     "end_time": "2025-04-30T09:38:55.945881Z",
     "start_time": "2025-04-30T09:38:55.045270Z"
    }
   },
   "source": [
    "# Import required libraries\n",
    "import numpy as np\n",
    "import pandas as pd\n",
    "\n",
    "# Import the reverse feature selection function\n",
    "from reverse_feature_selection.reverse_random_forests import select_feature_subset"
   ],
   "outputs": [],
   "execution_count": 1
  },
  {
   "cell_type": "markdown",
   "id": "9cff7ab0",
   "metadata": {},
   "source": "### Generate example dataset"
  },
  {
   "cell_type": "code",
   "id": "713250e7",
   "metadata": {
    "ExecuteTime": {
     "end_time": "2025-04-30T09:38:56.085584Z",
     "start_time": "2025-04-30T09:38:56.074524Z"
    }
   },
   "source": [
    "# Set up a random number generator\n",
    "rng = np.random.default_rng()\n",
    "\n",
    "# Number of total samples\n",
    "n_samples = 30\n",
    "\n",
    "# Number of irrelevant features\n",
    "n_irrelevant_features = 100\n",
    "\n",
    "# Create DataFrame with 100 irrelevant features\n",
    "data_df = pd.DataFrame({f\"feature{i+1}\": rng.random(n_samples) for i in range(n_irrelevant_features)})"
   ],
   "outputs": [],
   "execution_count": 2
  },
  {
   "cell_type": "markdown",
   "id": "6182cfbf",
   "metadata": {},
   "source": "### Add relevant features with stronger signals"
  },
  {
   "cell_type": "code",
   "id": "527182fd",
   "metadata": {
    "ExecuteTime": {
     "end_time": "2025-04-30T09:38:56.154528Z",
     "start_time": "2025-04-30T09:38:56.148496Z"
    }
   },
   "source": [
    "# Number of relevant features to insert\n",
    "n_relevant_features = 2\n",
    "\n",
    "# Insert relevant features with increased effect size\n",
    "for i in range(n_relevant_features):\n",
    "    regulated_class = rng.random(n_samples // 2) + (i + 1) * 2\n",
    "    unregulated_class = rng.random(n_samples // 2) + (i + 1)\n",
    "    # Concatenate the two classes to form a single relevant feature\n",
    "    data_df[f\"relevant_feature{i+1}\"] = np.concatenate((regulated_class, unregulated_class))"
   ],
   "outputs": [],
   "execution_count": 3
  },
  {
   "cell_type": "markdown",
   "id": "d94c8c72",
   "metadata": {},
   "source": "### Insert labels"
  },
  {
   "cell_type": "code",
   "id": "d7837793",
   "metadata": {
    "ExecuteTime": {
     "end_time": "2025-04-30T09:38:56.214162Z",
     "start_time": "2025-04-30T09:38:56.208681Z"
    }
   },
   "source": [
    "# Construct binary class labels (15 samples of class 0 and 15 of class 1)\n",
    "label = np.concatenate((np.zeros(n_samples // 2), np.ones(n_samples // 2)))\n",
    "\n",
    "# Insert label column at the beginning of the DataFrame\n",
    "data_df.insert(0, \"label\", label)"
   ],
   "outputs": [],
   "execution_count": 4
  },
  {
   "cell_type": "markdown",
   "id": "9afaf036",
   "metadata": {},
   "source": "### Set training indices (leave-one-out cross-validation)"
  },
  {
   "cell_type": "code",
   "id": "c4f33aee",
   "metadata": {
    "ExecuteTime": {
     "end_time": "2025-04-30T09:38:56.280961Z",
     "start_time": "2025-04-30T09:38:56.276542Z"
    }
   },
   "source": [
    "# Simulate leave-one-out cross-validation by selecting 29 out of 30 samples for training\n",
    "train_indices = rng.choice(data_df.index, size=29, replace=False)"
   ],
   "outputs": [],
   "execution_count": 5
  },
  {
   "cell_type": "markdown",
   "id": "8d472319",
   "metadata": {},
   "source": "### Define meta information"
  },
  {
   "cell_type": "code",
   "id": "fcebe0fc",
   "metadata": {
    "ExecuteTime": {
     "end_time": "2025-04-30T09:38:56.350884Z",
     "start_time": "2025-04-30T09:38:56.346575Z"
    }
   },
   "source": [
    "# Generate a diverse list of integer random seeds\n",
    "seeds = [29, 10, 17, 42, 213, 34, 1, 5, 19, 3, 23, 9, 7, 123, 234, 345, 456, 567, 678, 789, 890, 15, 333, 37, 45, 56]\n",
    "\n",
    "# Meta configuration for the feature selection\n",
    "meta_data = {\n",
    "    \"n_cpus\": 4,\n",
    "    \"random_seeds\": seeds,\n",
    "    \"train_correlation_threshold\": 0.7,  # threshold for removing correlated features\n",
    "}"
   ],
   "outputs": [],
   "execution_count": 6
  },
  {
   "cell_type": "markdown",
   "id": "78e654e4",
   "metadata": {},
   "source": "### Run reverse feature selection"
  },
  {
   "cell_type": "code",
   "id": "972ba62b",
   "metadata": {
    "ExecuteTime": {
     "end_time": "2025-04-30T09:40:07.786141Z",
     "start_time": "2025-04-30T09:38:56.411990Z"
    }
   },
   "source": [
    "# Run the reverse feature selection algorithm (could take a Minute or two)\n",
    "result_df = select_feature_subset(data_df, train_indices, meta_data)"
   ],
   "outputs": [
    {
     "name": "stderr",
     "output_type": "stream",
     "text": [
      "[Parallel(n_jobs=4)]: Using backend LokyBackend with 4 concurrent workers.\n",
      "[Parallel(n_jobs=4)]: Done  64 tasks      | elapsed:   34.9s\n",
      "[Parallel(n_jobs=4)]: Done 102 out of 102 | elapsed:  1.2min finished\n"
     ]
    }
   ],
   "execution_count": 7
  },
  {
   "cell_type": "markdown",
   "id": "c1e31774",
   "metadata": {},
   "source": "### Display selected features"
  },
  {
   "cell_type": "code",
   "id": "ed6d2123",
   "metadata": {
    "ExecuteTime": {
     "end_time": "2025-04-30T09:40:07.846131Z",
     "start_time": "2025-04-30T09:40:07.832483Z"
    }
   },
   "source": [
    "# Selected features are those with a score greater than 0, stored in the 'feature_subset_selection' column\n",
    "print(\"Selected features:\")\n",
    "result_df[result_df[\"feature_subset_selection\"] > 0][\"feature_subset_selection\"]"
   ],
   "outputs": [
    {
     "name": "stdout",
     "output_type": "stream",
     "text": [
      "Selected features:\n"
     ]
    },
    {
     "data": {
      "text/plain": [
       "relevant_feature1    0.756731\n",
       "relevant_feature2    0.879927\n",
       "Name: feature_subset_selection, dtype: float64"
      ]
     },
     "execution_count": 8,
     "metadata": {},
     "output_type": "execute_result"
    }
   ],
   "execution_count": 8
  }
 ],
 "metadata": {},
 "nbformat": 4,
 "nbformat_minor": 5
}
