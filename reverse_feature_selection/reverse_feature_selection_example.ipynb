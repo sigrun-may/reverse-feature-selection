{
 "cells": [
  {
   "cell_type": "markdown",
   "id": "a59a2e3e",
   "metadata": {},
   "source": [
    "# Basic example for the usage of reverse feature selection\n",
    "\n",
    "This is a basic example of how to use the reverse feature selection algorithm. The example generates a synthetic dataset\n",
    "with 100 irrelevant features and two relevant features. The relevant features have an increased effect size. The\n",
    "algorithm selects the relevant features and prints the names of the selected features."
   ]
  },
  {
   "cell_type": "markdown",
   "id": "9cff7ab0",
   "metadata": {},
   "source": "### Generate synthetic dataset"
  },
  {
   "cell_type": "code",
   "id": "713250e7",
   "metadata": {
    "ExecuteTime": {
     "end_time": "2025-05-28T08:02:16.297251Z",
     "start_time": "2025-05-28T08:02:15.803498Z"
    }
   },
   "source": [
    "# Import required libraries to generate an example dataset\n",
    "import numpy as np\n",
    "import pandas as pd\n",
    "\n",
    "# Number of relevant features to insert\n",
    "n_relevant_features = 2\n",
    "\n",
    "# Number of irrelevant features\n",
    "n_irrelevant_features = 200\n",
    "\n",
    "# Number of total samples (must be an even number for binary classification)\n",
    "n_samples = 30\n",
    "\n",
    "# Set up a random number generator\n",
    "rng = np.random.default_rng(seed=42)\n",
    "\n",
    "# Create DataFrame with irrelevant features\n",
    "data_df = pd.DataFrame({f\"random_feature{i+1}\": rng.random(n_samples) for i in range(n_irrelevant_features)})\n",
    "\n",
    "# Insert relevant features with increased effect size\n",
    "for i in range(n_relevant_features):\n",
    "    regulated_class = rng.random(n_samples // 2) + (i + 1) * 2\n",
    "    unregulated_class = rng.random(n_samples // 2) + (i + 1)\n",
    "    # Concatenate the two classes to form a single relevant feature\n",
    "    data_df.insert(i, f\"relevant_feature{i+1}\", np.concatenate((regulated_class, unregulated_class)))"
   ],
   "outputs": [],
   "execution_count": 1
  },
  {
   "metadata": {},
   "cell_type": "markdown",
   "source": "### Insert labels",
   "id": "d94c8c72"
  },
  {
   "cell_type": "code",
   "id": "d7837793",
   "metadata": {
    "ExecuteTime": {
     "end_time": "2025-05-28T08:02:16.406082Z",
     "start_time": "2025-05-28T08:02:16.379529Z"
    }
   },
   "source": [
    "# Construct binary class labels (15 samples of class 0 and 15 of class 1)\n",
    "label = np.concatenate((np.zeros(n_samples // 2), np.ones(n_samples // 2)))\n",
    "\n",
    "# Insert label column at the beginning of the DataFrame\n",
    "data_df.insert(0, \"label\", label)\n",
    "\n",
    "data_df.head()"
   ],
   "outputs": [
    {
     "data": {
      "text/plain": [
       "   label  relevant_feature1  relevant_feature2  random_feature1  \\\n",
       "0    0.0           2.455476           4.368622         0.773956   \n",
       "1    0.0           2.118858           4.455985         0.438878   \n",
       "2    0.0           2.569173           4.124443         0.858598   \n",
       "3    0.0           2.156429           4.020634         0.697368   \n",
       "4    0.0           2.060958           4.994090         0.094177   \n",
       "\n",
       "   random_feature2  random_feature3  random_feature4  random_feature5  \\\n",
       "0         0.744762         0.668403         0.152312         0.584098   \n",
       "1         0.967510         0.471096         0.696320         0.649847   \n",
       "2         0.325825         0.565236         0.446156         0.084444   \n",
       "3         0.370460         0.764999         0.381021         0.415807   \n",
       "4         0.469556         0.634718         0.301512         0.041614   \n",
       "\n",
       "   random_feature6  random_feature7  ...  random_feature191  \\\n",
       "0         0.826292         0.890792  ...           0.823674   \n",
       "1         0.896161         0.893447  ...           0.097213   \n",
       "2         0.140249         0.518858  ...           0.063284   \n",
       "3         0.554036         0.315929  ...           0.758601   \n",
       "4         0.108576         0.772012  ...           0.536311   \n",
       "\n",
       "   random_feature192  random_feature193  random_feature194  random_feature195  \\\n",
       "0           0.275511           0.080019           0.819990           0.695934   \n",
       "1           0.886400           0.910893           0.690705           0.845520   \n",
       "2           0.680823           0.744646           0.132451           0.720918   \n",
       "3           0.895672           0.931824           0.114184           0.173988   \n",
       "4           0.155901           0.469990           0.771922           0.366217   \n",
       "\n",
       "   random_feature196  random_feature197  random_feature198  random_feature199  \\\n",
       "0           0.994861           0.311558           0.961172           0.692742   \n",
       "1           0.863600           0.223499           0.104798           0.594323   \n",
       "2           0.023697           0.785206           0.529011           0.147729   \n",
       "3           0.251264           0.959814           0.272569           0.816116   \n",
       "4           0.043342           0.492500           0.264141           0.037275   \n",
       "\n",
       "   random_feature200  \n",
       "0           0.385556  \n",
       "1           0.046805  \n",
       "2           0.535446  \n",
       "3           0.995409  \n",
       "4           0.968992  \n",
       "\n",
       "[5 rows x 203 columns]"
      ],
      "text/html": [
       "<div>\n",
       "<style scoped>\n",
       "    .dataframe tbody tr th:only-of-type {\n",
       "        vertical-align: middle;\n",
       "    }\n",
       "\n",
       "    .dataframe tbody tr th {\n",
       "        vertical-align: top;\n",
       "    }\n",
       "\n",
       "    .dataframe thead th {\n",
       "        text-align: right;\n",
       "    }\n",
       "</style>\n",
       "<table border=\"1\" class=\"dataframe\">\n",
       "  <thead>\n",
       "    <tr style=\"text-align: right;\">\n",
       "      <th></th>\n",
       "      <th>label</th>\n",
       "      <th>relevant_feature1</th>\n",
       "      <th>relevant_feature2</th>\n",
       "      <th>random_feature1</th>\n",
       "      <th>random_feature2</th>\n",
       "      <th>random_feature3</th>\n",
       "      <th>random_feature4</th>\n",
       "      <th>random_feature5</th>\n",
       "      <th>random_feature6</th>\n",
       "      <th>random_feature7</th>\n",
       "      <th>...</th>\n",
       "      <th>random_feature191</th>\n",
       "      <th>random_feature192</th>\n",
       "      <th>random_feature193</th>\n",
       "      <th>random_feature194</th>\n",
       "      <th>random_feature195</th>\n",
       "      <th>random_feature196</th>\n",
       "      <th>random_feature197</th>\n",
       "      <th>random_feature198</th>\n",
       "      <th>random_feature199</th>\n",
       "      <th>random_feature200</th>\n",
       "    </tr>\n",
       "  </thead>\n",
       "  <tbody>\n",
       "    <tr>\n",
       "      <th>0</th>\n",
       "      <td>0.0</td>\n",
       "      <td>2.455476</td>\n",
       "      <td>4.368622</td>\n",
       "      <td>0.773956</td>\n",
       "      <td>0.744762</td>\n",
       "      <td>0.668403</td>\n",
       "      <td>0.152312</td>\n",
       "      <td>0.584098</td>\n",
       "      <td>0.826292</td>\n",
       "      <td>0.890792</td>\n",
       "      <td>...</td>\n",
       "      <td>0.823674</td>\n",
       "      <td>0.275511</td>\n",
       "      <td>0.080019</td>\n",
       "      <td>0.819990</td>\n",
       "      <td>0.695934</td>\n",
       "      <td>0.994861</td>\n",
       "      <td>0.311558</td>\n",
       "      <td>0.961172</td>\n",
       "      <td>0.692742</td>\n",
       "      <td>0.385556</td>\n",
       "    </tr>\n",
       "    <tr>\n",
       "      <th>1</th>\n",
       "      <td>0.0</td>\n",
       "      <td>2.118858</td>\n",
       "      <td>4.455985</td>\n",
       "      <td>0.438878</td>\n",
       "      <td>0.967510</td>\n",
       "      <td>0.471096</td>\n",
       "      <td>0.696320</td>\n",
       "      <td>0.649847</td>\n",
       "      <td>0.896161</td>\n",
       "      <td>0.893447</td>\n",
       "      <td>...</td>\n",
       "      <td>0.097213</td>\n",
       "      <td>0.886400</td>\n",
       "      <td>0.910893</td>\n",
       "      <td>0.690705</td>\n",
       "      <td>0.845520</td>\n",
       "      <td>0.863600</td>\n",
       "      <td>0.223499</td>\n",
       "      <td>0.104798</td>\n",
       "      <td>0.594323</td>\n",
       "      <td>0.046805</td>\n",
       "    </tr>\n",
       "    <tr>\n",
       "      <th>2</th>\n",
       "      <td>0.0</td>\n",
       "      <td>2.569173</td>\n",
       "      <td>4.124443</td>\n",
       "      <td>0.858598</td>\n",
       "      <td>0.325825</td>\n",
       "      <td>0.565236</td>\n",
       "      <td>0.446156</td>\n",
       "      <td>0.084444</td>\n",
       "      <td>0.140249</td>\n",
       "      <td>0.518858</td>\n",
       "      <td>...</td>\n",
       "      <td>0.063284</td>\n",
       "      <td>0.680823</td>\n",
       "      <td>0.744646</td>\n",
       "      <td>0.132451</td>\n",
       "      <td>0.720918</td>\n",
       "      <td>0.023697</td>\n",
       "      <td>0.785206</td>\n",
       "      <td>0.529011</td>\n",
       "      <td>0.147729</td>\n",
       "      <td>0.535446</td>\n",
       "    </tr>\n",
       "    <tr>\n",
       "      <th>3</th>\n",
       "      <td>0.0</td>\n",
       "      <td>2.156429</td>\n",
       "      <td>4.020634</td>\n",
       "      <td>0.697368</td>\n",
       "      <td>0.370460</td>\n",
       "      <td>0.764999</td>\n",
       "      <td>0.381021</td>\n",
       "      <td>0.415807</td>\n",
       "      <td>0.554036</td>\n",
       "      <td>0.315929</td>\n",
       "      <td>...</td>\n",
       "      <td>0.758601</td>\n",
       "      <td>0.895672</td>\n",
       "      <td>0.931824</td>\n",
       "      <td>0.114184</td>\n",
       "      <td>0.173988</td>\n",
       "      <td>0.251264</td>\n",
       "      <td>0.959814</td>\n",
       "      <td>0.272569</td>\n",
       "      <td>0.816116</td>\n",
       "      <td>0.995409</td>\n",
       "    </tr>\n",
       "    <tr>\n",
       "      <th>4</th>\n",
       "      <td>0.0</td>\n",
       "      <td>2.060958</td>\n",
       "      <td>4.994090</td>\n",
       "      <td>0.094177</td>\n",
       "      <td>0.469556</td>\n",
       "      <td>0.634718</td>\n",
       "      <td>0.301512</td>\n",
       "      <td>0.041614</td>\n",
       "      <td>0.108576</td>\n",
       "      <td>0.772012</td>\n",
       "      <td>...</td>\n",
       "      <td>0.536311</td>\n",
       "      <td>0.155901</td>\n",
       "      <td>0.469990</td>\n",
       "      <td>0.771922</td>\n",
       "      <td>0.366217</td>\n",
       "      <td>0.043342</td>\n",
       "      <td>0.492500</td>\n",
       "      <td>0.264141</td>\n",
       "      <td>0.037275</td>\n",
       "      <td>0.968992</td>\n",
       "    </tr>\n",
       "  </tbody>\n",
       "</table>\n",
       "<p>5 rows × 203 columns</p>\n",
       "</div>"
      ]
     },
     "execution_count": 2,
     "metadata": {},
     "output_type": "execute_result"
    }
   ],
   "execution_count": 2
  },
  {
   "cell_type": "markdown",
   "id": "9afaf036",
   "metadata": {},
   "source": "### Set training indices (simulate cross-validation)"
  },
  {
   "cell_type": "code",
   "id": "c4f33aee",
   "metadata": {
    "ExecuteTime": {
     "end_time": "2025-05-28T08:02:16.551449Z",
     "start_time": "2025-05-28T08:02:16.547062Z"
    }
   },
   "source": [
    "# Simulate leave-one-out cross-validation by selecting 29 out of 30 samples for training\n",
    "train_indices = rng.choice(data_df.index, size=29, replace=False)"
   ],
   "outputs": [],
   "execution_count": 3
  },
  {
   "cell_type": "markdown",
   "id": "8d472319",
   "metadata": {},
   "source": [
    "### Define meta information\n",
    "\n",
    "Meta data can be left at its default values. But \"random_seeds\" must be defined for reproducibility and “train_correlation_threshold” should be tuned if the results are not satisfactory. With this parameter the size of the feature subset selction can be adjusted."
   ]
  },
  {
   "cell_type": "code",
   "id": "fcebe0fc",
   "metadata": {
    "ExecuteTime": {
     "end_time": "2025-05-28T08:02:16.920106Z",
     "start_time": "2025-05-28T08:02:16.914416Z"
    }
   },
   "source": [
    "# Generate a diverse list of integer random seeds to initialize the random forests for reproducibility\n",
    "seeds = [29, 10, 17, 42, 213, 34, 1, 5, 19, 3, 23, 9, 7, 123, 234, 345, 456, 567, 678, 789, 890, 15, 333, 37, 45, 56]\n",
    "\n",
    "# Meta configuration for the feature selection\n",
    "meta_data = {\n",
    "    \"n_cpus\": 4,\n",
    "    \"random_seeds\": seeds,\n",
    "    # train correlation threshold defines the features correlated to the target to be removed from the training data\n",
    "    \"train_correlation_threshold\": 0.7,\n",
    "}"
   ],
   "outputs": [],
   "execution_count": 4
  },
  {
   "cell_type": "markdown",
   "id": "78e654e4",
   "metadata": {},
   "source": "### Run reverse feature selection"
  },
  {
   "cell_type": "code",
   "id": "972ba62b",
   "metadata": {
    "ExecuteTime": {
     "end_time": "2025-05-28T08:03:45.628044Z",
     "start_time": "2025-05-28T08:02:17.441246Z"
    }
   },
   "source": [
    "# Import the reverse feature selection function\n",
    "from reverse_feature_selection.reverse_random_forests import select_feature_subset\n",
    "\n",
    "# Run the reverse feature selection algorithm (could take a Minute or two)\n",
    "result_df = select_feature_subset(data_df, train_indices, meta_data=meta_data)"
   ],
   "outputs": [
    {
     "name": "stderr",
     "output_type": "stream",
     "text": [
      "[Parallel(n_jobs=4)]: Using backend LokyBackend with 4 concurrent workers.\n",
      "[Parallel(n_jobs=4)]: Done  64 tasks      | elapsed:   26.8s\n",
      "[Parallel(n_jobs=4)]: Done 202 out of 202 | elapsed:  1.5min finished\n"
     ]
    }
   ],
   "execution_count": 5
  },
  {
   "cell_type": "markdown",
   "id": "c1e31774",
   "metadata": {},
   "source": "### Display selected features"
  },
  {
   "cell_type": "code",
   "id": "ed6d2123",
   "metadata": {
    "ExecuteTime": {
     "end_time": "2025-05-28T08:03:45.725142Z",
     "start_time": "2025-05-28T08:03:45.712694Z"
    }
   },
   "source": [
    "# Selected features are those with a score greater than 0, stored in the 'feature_subset_selection' column\n",
    "print(\"Selected features:\")\n",
    "result_df[result_df[\"feature_subset_selection\"] > 0][\"feature_subset_selection\"]"
   ],
   "outputs": [
    {
     "name": "stdout",
     "output_type": "stream",
     "text": [
      "Selected features:\n"
     ]
    },
    {
     "data": {
      "text/plain": [
       "relevant_feature2    0.391421\n",
       "Name: feature_subset_selection, dtype: float64"
      ]
     },
     "execution_count": 6,
     "metadata": {},
     "output_type": "execute_result"
    }
   ],
   "execution_count": 6
  }
 ],
 "metadata": {},
 "nbformat": 4,
 "nbformat_minor": 5
}
