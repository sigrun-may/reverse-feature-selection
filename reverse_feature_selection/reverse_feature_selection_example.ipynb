{
 "cells": [
  {
   "cell_type": "markdown",
   "id": "a59a2e3e",
   "metadata": {},
   "source": [
    "# Basic example for the usage of reverse feature selection\n",
    "\n",
    "This is a basic example of how to use the reverse feature selection algorithm. The example generates a synthetic dataset\n",
    "with 100 irrelevant features and two relevant features. The relevant features have an increased effect size. The\n",
    "algorithm selects the relevant features and prints the names of the selected features."
   ]
  },
  {
   "metadata": {},
   "cell_type": "markdown",
   "source": "### Import necessary libraries",
   "id": "2fe3a712cac241f6"
  },
  {
   "cell_type": "code",
   "id": "e886c508",
   "metadata": {
    "ExecuteTime": {
     "end_time": "2025-04-30T12:03:16.988581Z",
     "start_time": "2025-04-30T12:03:16.050121Z"
    }
   },
   "source": [
    "# Import required libraries to generate an example dataset\n",
    "import numpy as np\n",
    "import pandas as pd\n",
    "\n",
    "# Import the reverse feature selection function\n",
    "from reverse_feature_selection.reverse_random_forests import select_feature_subset"
   ],
   "outputs": [],
   "execution_count": 1
  },
  {
   "cell_type": "markdown",
   "id": "9cff7ab0",
   "metadata": {},
   "source": "### Generate synthetic dataset"
  },
  {
   "cell_type": "code",
   "id": "713250e7",
   "metadata": {
    "ExecuteTime": {
     "end_time": "2025-04-30T12:03:17.109001Z",
     "start_time": "2025-04-30T12:03:17.099449Z"
    }
   },
   "source": [
    "# Set up a random number generator\n",
    "rng = np.random.default_rng()\n",
    "\n",
    "# Number of total samples\n",
    "n_samples = 30\n",
    "\n",
    "# Number of irrelevant features\n",
    "n_irrelevant_features = 100\n",
    "\n",
    "# Create DataFrame with 100 irrelevant features\n",
    "data_df = pd.DataFrame({f\"feature{i+1}\": rng.random(n_samples) for i in range(n_irrelevant_features)})"
   ],
   "outputs": [],
   "execution_count": 2
  },
  {
   "cell_type": "markdown",
   "id": "6182cfbf",
   "metadata": {},
   "source": "### Add relevant features with stronger signals"
  },
  {
   "cell_type": "code",
   "id": "527182fd",
   "metadata": {
    "ExecuteTime": {
     "end_time": "2025-04-30T12:03:17.189378Z",
     "start_time": "2025-04-30T12:03:17.179506Z"
    }
   },
   "source": [
    "# Number of relevant features to insert\n",
    "n_relevant_features = 2\n",
    "\n",
    "# Insert relevant features with increased effect size\n",
    "for i in range(n_relevant_features):\n",
    "    regulated_class = rng.random(n_samples // 2) + (i + 1) * 2\n",
    "    unregulated_class = rng.random(n_samples // 2) + (i + 1)\n",
    "    # Concatenate the two classes to form a single relevant feature\n",
    "    data_df[f\"relevant_feature{i+1}\"] = np.concatenate((regulated_class, unregulated_class))"
   ],
   "outputs": [],
   "execution_count": 3
  },
  {
   "cell_type": "markdown",
   "id": "d94c8c72",
   "metadata": {},
   "source": "### Insert labels"
  },
  {
   "cell_type": "code",
   "id": "d7837793",
   "metadata": {
    "ExecuteTime": {
     "end_time": "2025-04-30T12:03:17.268955Z",
     "start_time": "2025-04-30T12:03:17.261683Z"
    }
   },
   "source": [
    "# Construct binary class labels (15 samples of class 0 and 15 of class 1)\n",
    "label = np.concatenate((np.zeros(n_samples // 2), np.ones(n_samples // 2)))\n",
    "\n",
    "# Insert label column at the beginning of the DataFrame\n",
    "data_df.insert(0, \"label\", label)"
   ],
   "outputs": [],
   "execution_count": 4
  },
  {
   "cell_type": "markdown",
   "id": "9afaf036",
   "metadata": {},
   "source": "### Set training indices (simulate cross-validation)"
  },
  {
   "cell_type": "code",
   "id": "c4f33aee",
   "metadata": {
    "ExecuteTime": {
     "end_time": "2025-04-30T12:03:17.355315Z",
     "start_time": "2025-04-30T12:03:17.351105Z"
    }
   },
   "source": [
    "# Simulate leave-one-out cross-validation by selecting 29 out of 30 samples for training\n",
    "train_indices = rng.choice(data_df.index, size=29, replace=False)"
   ],
   "outputs": [],
   "execution_count": 5
  },
  {
   "cell_type": "markdown",
   "id": "8d472319",
   "metadata": {},
   "source": "### Define meta information"
  },
  {
   "cell_type": "code",
   "id": "fcebe0fc",
   "metadata": {
    "ExecuteTime": {
     "end_time": "2025-04-30T12:03:17.488039Z",
     "start_time": "2025-04-30T12:03:17.480738Z"
    }
   },
   "source": [
    "# Generate a diverse list of integer random seeds to initialize the random forests\n",
    "seeds = [29, 10, 17, 42, 213, 34, 1, 5, 19, 3, 23, 9, 7, 123, 234, 345, 456, 567, 678, 789, 890, 15, 333, 37, 45, 56]\n",
    "\n",
    "# Meta configuration for the feature selection\n",
    "meta_data = {\n",
    "    \"n_cpus\": 4,\n",
    "    \"random_seeds\": seeds,\n",
    "    # train correlation threshold defines the features correlated to the target to be removed from the training data\n",
    "    \"train_correlation_threshold\": 0.7,\n",
    "}"
   ],
   "outputs": [],
   "execution_count": 6
  },
  {
   "cell_type": "markdown",
   "id": "78e654e4",
   "metadata": {},
   "source": "### Run reverse feature selection"
  },
  {
   "cell_type": "code",
   "id": "972ba62b",
   "metadata": {
    "ExecuteTime": {
     "end_time": "2025-04-30T12:04:28.901387Z",
     "start_time": "2025-04-30T12:03:17.557352Z"
    }
   },
   "source": [
    "# Run the reverse feature selection algorithm (could take a Minute or two)\n",
    "result_df = select_feature_subset(data_df, train_indices, meta_data)"
   ],
   "outputs": [
    {
     "name": "stderr",
     "output_type": "stream",
     "text": [
      "[Parallel(n_jobs=4)]: Using backend LokyBackend with 4 concurrent workers.\n",
      "[Parallel(n_jobs=4)]: Done  64 tasks      | elapsed:   36.4s\n",
      "[Parallel(n_jobs=4)]: Done 102 out of 102 | elapsed:  1.2min finished\n"
     ]
    }
   ],
   "execution_count": 7
  },
  {
   "cell_type": "markdown",
   "id": "c1e31774",
   "metadata": {},
   "source": "### Display selected features"
  },
  {
   "cell_type": "code",
   "id": "ed6d2123",
   "metadata": {
    "ExecuteTime": {
     "end_time": "2025-04-30T12:04:29.046009Z",
     "start_time": "2025-04-30T12:04:29.013894Z"
    }
   },
   "source": [
    "# Selected features are those with a score greater than 0, stored in the 'feature_subset_selection' column\n",
    "print(\"Selected features:\")\n",
    "result_df[result_df[\"feature_subset_selection\"] > 0][\"feature_subset_selection\"]"
   ],
   "outputs": [
    {
     "name": "stdout",
     "output_type": "stream",
     "text": [
      "Selected features:\n"
     ]
    },
    {
     "data": {
      "text/plain": [
       "relevant_feature1    0.713424\n",
       "relevant_feature2    0.916783\n",
       "Name: feature_subset_selection, dtype: float64"
      ]
     },
     "execution_count": 8,
     "metadata": {},
     "output_type": "execute_result"
    }
   ],
   "execution_count": 8
  }
 ],
 "metadata": {},
 "nbformat": 4,
 "nbformat_minor": 5
}
